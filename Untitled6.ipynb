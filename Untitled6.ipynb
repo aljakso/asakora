{
 "cells": [
  {
   "cell_type": "code",
   "execution_count": 38,
   "id": "da1c3129",
   "metadata": {},
   "outputs": [],
   "source": [
    "import ipywidgets as widgets \n",
    "import warnings\n",
    "warnings.filterwarnings(\"ignore\")\n",
    "from IPython.display import display\n",
    "from ipywidgets import Button, Layout\n",
    "output = widgets.Output()\n",
    "\n",
    "#def function_name(a,b):\n",
    "    #print(\"в полку есть 29 \"+ a + \" , и 48  \"+b)\n",
    "#function_name(\"ашельцев\", \"литонцев\")\n"
   ]
  },
  {
   "cell_type": "code",
   "execution_count": 39,
   "id": "feec83ce",
   "metadata": {},
   "outputs": [],
   "source": [
    "#print('Ашелия!')"
   ]
  },
  {
   "cell_type": "code",
   "execution_count": 40,
   "id": "8e73e77f",
   "metadata": {},
   "outputs": [
    {
     "data": {
      "application/vnd.jupyter.widget-view+json": {
       "model_id": "0dac1ce4784840ff9bc881478ba10641",
       "version_major": 2,
       "version_minor": 0
      },
      "text/plain": [
       "Button(description='послать всех ашельцев', layout=Layout(border='5px solid red', height='45px', width='18%'),…"
      ]
     },
     "metadata": {},
     "output_type": "display_data"
    },
    {
     "data": {
      "application/vnd.jupyter.widget-view+json": {
       "model_id": "b34a37cd59974b09a9c30f6f26129ac6",
       "version_major": 2,
       "version_minor": 0
      },
      "text/plain": [
       "IntRangeSlider(value=(300, 700), continuous_update=False, description='ашельци', max=1000, orientation='vertic…"
      ]
     },
     "metadata": {},
     "output_type": "display_data"
    },
    {
     "data": {
      "application/vnd.jupyter.widget-view+json": {
       "model_id": "764857caf2ac45288da39ab508ab08cc",
       "version_major": 2,
       "version_minor": 0
      },
      "text/plain": [
       "Output()"
      ]
     },
     "metadata": {},
     "output_type": "display_data"
    }
   ],
   "source": [
    "@output.capture(clear_output=True,wait=True)\n",
    "def gruppaosvobozdenijafjordzev(b):\n",
    "    print(f\"в армии Фесталии есть {Y.value}\")\n",
    "\n",
    "Y=widgets.IntRangeSlider(\n",
    "    value=[300, 700],\n",
    "    min=0,\n",
    "    max=1000,\n",
    "    step=1.0,\n",
    "    description='ашельци',\n",
    "    disabled=False,\n",
    "    continuous_update=False,\n",
    "    orientation='vertical',\n",
    "    readout=True,\n",
    "    readout_format='.1f', # .1f - float (as real in pascal)  .2f - 2 нуля за запятой d-integer \n",
    ")\n",
    "\n",
    "krasnaja_knopka = widgets.Button(\n",
    "      description = 'послать всех ашельцев', layout=Layout(width='18%', height='45px', border='5px solid red'))\n",
    "    \n",
    "krasnaja_knopka.on_click(gruppaosvobozdenijafjordzev)\n",
    "display(krasnaja_knopka)\n",
    "display(Y)\n",
    "output"
   ]
  },
  {
   "cell_type": "code",
   "execution_count": null,
   "id": "e704a77a",
   "metadata": {},
   "outputs": [],
   "source": []
  }
 ],
 "metadata": {
  "kernelspec": {
   "display_name": "Python 3",
   "language": "python",
   "name": "python3"
  },
  "language_info": {
   "codemirror_mode": {
    "name": "ipython",
    "version": 3
   },
   "file_extension": ".py",
   "mimetype": "text/x-python",
   "name": "python",
   "nbconvert_exporter": "python",
   "pygments_lexer": "ipython3",
   "version": "3.8.8"
  }
 },
 "nbformat": 4,
 "nbformat_minor": 5
}
